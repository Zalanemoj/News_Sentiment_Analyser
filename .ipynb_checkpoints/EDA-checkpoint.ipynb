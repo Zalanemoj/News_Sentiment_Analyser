{
 "cells": [
  {
   "cell_type": "code",
   "execution_count": 1,
   "id": "3b37cb5b-3b79-47cd-a945-d1e39d7ce1ee",
   "metadata": {},
   "outputs": [],
   "source": [
    "import pandas as pd\n",
    "import numpy as np"
   ]
  },
  {
   "cell_type": "code",
   "execution_count": 2,
   "id": "d6f274bc-ca43-42fb-aa3d-ecbbe2f43a1d",
   "metadata": {},
   "outputs": [
    {
     "data": {
      "text/html": [
       "<div>\n",
       "<style scoped>\n",
       "    .dataframe tbody tr th:only-of-type {\n",
       "        vertical-align: middle;\n",
       "    }\n",
       "\n",
       "    .dataframe tbody tr th {\n",
       "        vertical-align: top;\n",
       "    }\n",
       "\n",
       "    .dataframe thead th {\n",
       "        text-align: right;\n",
       "    }\n",
       "</style>\n",
       "<table border=\"1\" class=\"dataframe\">\n",
       "  <thead>\n",
       "    <tr style=\"text-align: right;\">\n",
       "      <th></th>\n",
       "      <th>date</th>\n",
       "      <th>news</th>\n",
       "      <th>neg</th>\n",
       "      <th>neu</th>\n",
       "      <th>pos</th>\n",
       "      <th>compound</th>\n",
       "      <th>sentiment</th>\n",
       "    </tr>\n",
       "  </thead>\n",
       "  <tbody>\n",
       "    <tr>\n",
       "      <th>0</th>\n",
       "      <td>2007-07-07</td>\n",
       "      <td>It was a long antipodean night. While there’s ...</td>\n",
       "      <td>0.059000</td>\n",
       "      <td>0.87800</td>\n",
       "      <td>0.064000</td>\n",
       "      <td>0.051600</td>\n",
       "      <td>POSITIVE</td>\n",
       "    </tr>\n",
       "    <tr>\n",
       "      <th>1</th>\n",
       "      <td>2007-07-07</td>\n",
       "      <td>In Mexico there are no licensing or registrati...</td>\n",
       "      <td>0.044000</td>\n",
       "      <td>0.95600</td>\n",
       "      <td>0.000000</td>\n",
       "      <td>-0.296000</td>\n",
       "      <td>NEGATIVE</td>\n",
       "    </tr>\n",
       "    <tr>\n",
       "      <th>2</th>\n",
       "      <td>2007-07-07</td>\n",
       "      <td>The government has until Monday to protect the...</td>\n",
       "      <td>0.000000</td>\n",
       "      <td>0.89400</td>\n",
       "      <td>0.106000</td>\n",
       "      <td>0.381800</td>\n",
       "      <td>POSITIVE</td>\n",
       "    </tr>\n",
       "    <tr>\n",
       "      <th>3</th>\n",
       "      <td>2007-07-07</td>\n",
       "      <td>A record-breaking heat wave in the Southwest i...</td>\n",
       "      <td>0.197505</td>\n",
       "      <td>0.66149</td>\n",
       "      <td>0.141005</td>\n",
       "      <td>0.997491</td>\n",
       "      <td>POSITIVE</td>\n",
       "    </tr>\n",
       "    <tr>\n",
       "      <th>4</th>\n",
       "      <td>2007-07-07</td>\n",
       "      <td>England started its Live Earth concert at Wemb...</td>\n",
       "      <td>0.033000</td>\n",
       "      <td>0.94500</td>\n",
       "      <td>0.022000</td>\n",
       "      <td>-0.177900</td>\n",
       "      <td>NEGATIVE</td>\n",
       "    </tr>\n",
       "  </tbody>\n",
       "</table>\n",
       "</div>"
      ],
      "text/plain": [
       "         date                                               news       neg  \\\n",
       "0  2007-07-07  It was a long antipodean night. While there’s ...  0.059000   \n",
       "1  2007-07-07  In Mexico there are no licensing or registrati...  0.044000   \n",
       "2  2007-07-07  The government has until Monday to protect the...  0.000000   \n",
       "3  2007-07-07  A record-breaking heat wave in the Southwest i...  0.197505   \n",
       "4  2007-07-07  England started its Live Earth concert at Wemb...  0.033000   \n",
       "\n",
       "       neu       pos  compound sentiment  \n",
       "0  0.87800  0.064000  0.051600  POSITIVE  \n",
       "1  0.95600  0.000000 -0.296000  NEGATIVE  \n",
       "2  0.89400  0.106000  0.381800  POSITIVE  \n",
       "3  0.66149  0.141005  0.997491  POSITIVE  \n",
       "4  0.94500  0.022000 -0.177900  NEGATIVE  "
      ]
     },
     "execution_count": 2,
     "metadata": {},
     "output_type": "execute_result"
    }
   ],
   "source": [
    "df=pd.read_csv('news.csv')\n",
    "df.head()"
   ]
  },
  {
   "cell_type": "code",
   "execution_count": 3,
   "id": "a7b30132-b6d0-48e6-a7cc-427b9e2f8ef6",
   "metadata": {},
   "outputs": [],
   "source": [
    "df=df.drop(columns=['date','neg','neu','pos','compound'],axis=1)"
   ]
  },
  {
   "cell_type": "code",
   "execution_count": 4,
   "id": "f0570dbd-14ab-48aa-98d0-28aa3bbcc487",
   "metadata": {},
   "outputs": [
    {
     "name": "stdout",
     "output_type": "stream",
     "text": [
      "Requirement already satisfied: nltk in /home/studio-lab-user/.conda/envs/default/lib/python3.9/site-packages (3.9.2)\n",
      "Requirement already satisfied: click in /home/studio-lab-user/.conda/envs/default/lib/python3.9/site-packages (from nltk) (8.1.8)\n",
      "Requirement already satisfied: joblib in /home/studio-lab-user/.conda/envs/default/lib/python3.9/site-packages (from nltk) (1.5.2)\n",
      "Requirement already satisfied: regex>=2021.8.3 in /home/studio-lab-user/.conda/envs/default/lib/python3.9/site-packages (from nltk) (2025.9.18)\n",
      "Requirement already satisfied: tqdm in /home/studio-lab-user/.conda/envs/default/lib/python3.9/site-packages (from nltk) (4.67.1)\n"
     ]
    }
   ],
   "source": [
    "!pip install nltk"
   ]
  },
  {
   "cell_type": "code",
   "execution_count": 5,
   "id": "1234f242-e0cd-4102-a808-6f6f0860be15",
   "metadata": {},
   "outputs": [
    {
     "name": "stderr",
     "output_type": "stream",
     "text": [
      "2025-10-04 05:43:35.192283: I external/local_xla/xla/tsl/cuda/cudart_stub.cc:31] Could not find cuda drivers on your machine, GPU will not be used.\n",
      "2025-10-04 05:43:36.917025: I tensorflow/core/platform/cpu_feature_guard.cc:210] This TensorFlow binary is optimized to use available CPU instructions in performance-critical operations.\n",
      "To enable the following instructions: AVX2 AVX512F FMA, in other operations, rebuild TensorFlow with the appropriate compiler flags.\n",
      "2025-10-04 05:43:41.389937: I external/local_xla/xla/tsl/cuda/cudart_stub.cc:31] Could not find cuda drivers on your machine, GPU will not be used.\n"
     ]
    }
   ],
   "source": [
    "import nltk\n",
    "from tensorflow.keras.preprocessing.text import Tokenizer\n",
    "from tensorflow.keras.preprocessing.sequence import pad_sequences\n",
    "from sklearn.model_selection import train_test_split"
   ]
  },
  {
   "cell_type": "code",
   "execution_count": 6,
   "id": "d67b49d8-0685-4d22-b4f3-936392d2388f",
   "metadata": {},
   "outputs": [],
   "source": [
    "import re\n",
    "def clean_text(text):\n",
    "    text = str(text)\n",
    "    text = text.lower()                                  \n",
    "    text = re.sub(r'http\\S+|www\\S+|https\\S+', '', text)  \n",
    "    text = re.sub(r'<.*?>', '', text)                   \n",
    "    text = re.sub(r'[^a-zA-Z\\s]', '', text)             \n",
    "    text = re.sub(r'\\s+', ' ', text).strip()            \n",
    "    return text\n",
    "    \n",
    "df['cleaned_news'] = df['news'].apply(clean_text)"
   ]
  },
  {
   "cell_type": "code",
   "execution_count": 7,
   "id": "34fa627c-8832-4f23-97a4-2f0bdab34070",
   "metadata": {},
   "outputs": [],
   "source": [
    "df=df.drop(columns='news')"
   ]
  },
  {
   "cell_type": "code",
   "execution_count": 8,
   "id": "96e79993-914e-442a-a985-7bce23d26824",
   "metadata": {},
   "outputs": [],
   "source": [
    "from nltk.stem import WordNetLemmatizer\n",
    "lemmatizer = WordNetLemmatizer()\n",
    "def lemmatize_text(text):\n",
    "    words = text.split()\n",
    "    words = [lemmatizer.lemmatize(w) for w in words ]\n",
    "    return \" \".join(words)\n",
    "\n",
    "df[\"cleaned_news\"] = df[\"cleaned_news\"].apply(lemmatize_text)"
   ]
  },
  {
   "cell_type": "code",
   "execution_count": 9,
   "id": "4690df37-51e1-4115-bc11-77971c003fe3",
   "metadata": {},
   "outputs": [],
   "source": [
    "tokenizer = Tokenizer()\n",
    "tokenizer.fit_on_texts(df[\"cleaned_news\"])\n",
    "df['cleaned_news'] = tokenizer.texts_to_sequences(df[\"cleaned_news\"])"
   ]
  },
  {
   "cell_type": "code",
   "execution_count": 10,
   "id": "b096da75-1038-4587-aca9-c26cc67aabe9",
   "metadata": {},
   "outputs": [
    {
     "data": {
      "text/plain": [
       "217"
      ]
     },
     "execution_count": 10,
     "metadata": {},
     "output_type": "execute_result"
    }
   ],
   "source": [
    "max_sequence_len=max([len(x) for x in df['cleaned_news']])\n",
    "max_sequence_len"
   ]
  },
  {
   "cell_type": "code",
   "execution_count": 11,
   "id": "c95d14ec-0145-463a-81c5-9450d88a8963",
   "metadata": {},
   "outputs": [],
   "source": [
    "df['padded_news'] = pad_sequences(df['cleaned_news'], padding='pre', maxlen=max_sequence_len).tolist()"
   ]
  },
  {
   "cell_type": "code",
   "execution_count": 12,
   "id": "7ad7dc34-3466-4d00-85d2-58413611a511",
   "metadata": {},
   "outputs": [],
   "source": [
    "df=df.drop(columns='cleaned_news')"
   ]
  },
  {
   "cell_type": "code",
   "execution_count": 13,
   "id": "d8060b9e-f5a2-41a5-8757-5902605bd8c4",
   "metadata": {},
   "outputs": [
    {
     "data": {
      "text/plain": [
       "array(['POSITIVE', 'NEGATIVE'], dtype=object)"
      ]
     },
     "execution_count": 13,
     "metadata": {},
     "output_type": "execute_result"
    }
   ],
   "source": [
    "df['sentiment'].unique()"
   ]
  },
  {
   "cell_type": "code",
   "execution_count": 14,
   "id": "05d37f55-4c22-4b77-8cba-664be9bad374",
   "metadata": {},
   "outputs": [],
   "source": [
    "x = np.array(df['padded_news'].tolist())\n",
    "y = df['sentiment']"
   ]
  },
  {
   "cell_type": "code",
   "execution_count": 15,
   "id": "0b880b91-8701-48cf-9674-701000b893f2",
   "metadata": {},
   "outputs": [],
   "source": [
    "x_train, x_test, y_train, y_test = train_test_split(x, y, test_size=0.2)"
   ]
  },
  {
   "cell_type": "code",
   "execution_count": 16,
   "id": "aae06325-a015-4a70-8f5c-02487cf75712",
   "metadata": {},
   "outputs": [],
   "source": [
    "from sklearn.preprocessing import LabelEncoder\n",
    "label=LabelEncoder()"
   ]
  },
  {
   "cell_type": "code",
   "execution_count": 17,
   "id": "1b8dcb82-fe00-4cc6-88a7-141a92951991",
   "metadata": {},
   "outputs": [],
   "source": [
    "y_train=label.fit_transform(y_train)\n",
    "y_test=label.transform(y_test)"
   ]
  },
  {
   "cell_type": "code",
   "execution_count": 18,
   "id": "72d3a554-7159-4589-b7d2-13fd368dd8bb",
   "metadata": {},
   "outputs": [],
   "source": [
    "import pickle"
   ]
  },
  {
   "cell_type": "code",
   "execution_count": 19,
   "id": "7130d2ea-e75e-4544-a44a-155d3928deb4",
   "metadata": {},
   "outputs": [],
   "source": [
    "with open('label.pkl','wb') as file:\n",
    "    pickle.dump(label,file)"
   ]
  },
  {
   "cell_type": "code",
   "execution_count": 20,
   "id": "9f1c44e4-c2b1-4924-ad97-8fd51aea5797",
   "metadata": {},
   "outputs": [],
   "source": [
    "import os\n",
    "output_dir = \"processed_data\"\n",
    "os.makedirs(output_dir, exist_ok=True)\n",
    "\n",
    "np.save(os.path.join(output_dir, \"x_train.npy\"), x_train)\n",
    "np.save(os.path.join(output_dir, \"x_test.npy\"), x_test)\n",
    "np.save(os.path.join(output_dir, \"y_train.npy\"), y_train)\n",
    "np.save(os.path.join(output_dir, \"y_test.npy\"), y_test)"
   ]
  },
  {
   "cell_type": "code",
   "execution_count": 21,
   "id": "da4ddd01-a5b5-44c9-972e-507358e7e836",
   "metadata": {},
   "outputs": [
    {
     "data": {
      "text/plain": [
       "126775"
      ]
     },
     "execution_count": 21,
     "metadata": {},
     "output_type": "execute_result"
    }
   ],
   "source": [
    "total_words=len(tokenizer.word_index)+1\n",
    "total_words"
   ]
  },
  {
   "cell_type": "code",
   "execution_count": 22,
   "id": "b128547a-870d-40b7-b9f1-ae9162a01300",
   "metadata": {},
   "outputs": [],
   "source": [
    "with open('tokenizer.pickle','wb') as handle:\n",
    "    pickle.dump(tokenizer,handle,protocol=pickle.HIGHEST_PROTOCOL)"
   ]
  }
 ],
 "metadata": {
  "kernelspec": {
   "display_name": "default:Python",
   "language": "python",
   "name": "conda-env-default-py"
  },
  "language_info": {
   "codemirror_mode": {
    "name": "ipython",
    "version": 3
   },
   "file_extension": ".py",
   "mimetype": "text/x-python",
   "name": "python",
   "nbconvert_exporter": "python",
   "pygments_lexer": "ipython3",
   "version": "3.9.23"
  }
 },
 "nbformat": 4,
 "nbformat_minor": 5
}
