{
 "cells": [
  {
   "cell_type": "code",
   "execution_count": 1,
   "id": "34e346c6-69bc-4ca6-b712-d68bcc5e7567",
   "metadata": {},
   "outputs": [
    {
     "name": "stderr",
     "output_type": "stream",
     "text": [
      "2025-10-04 05:47:11.839671: I external/local_xla/xla/tsl/cuda/cudart_stub.cc:31] Could not find cuda drivers on your machine, GPU will not be used.\n",
      "2025-10-04 05:47:11.905387: I tensorflow/core/platform/cpu_feature_guard.cc:210] This TensorFlow binary is optimized to use available CPU instructions in performance-critical operations.\n",
      "To enable the following instructions: AVX2 AVX512F FMA, in other operations, rebuild TensorFlow with the appropriate compiler flags.\n",
      "2025-10-04 05:47:13.989639: I external/local_xla/xla/tsl/cuda/cudart_stub.cc:31] Could not find cuda drivers on your machine, GPU will not be used.\n"
     ]
    }
   ],
   "source": [
    "import tensorflow as tf\n",
    "from tensorflow.keras.models import load_model\n",
    "import pickle\n",
    "import pandas as pd\n",
    "import numpy as np"
   ]
  },
  {
   "cell_type": "code",
   "execution_count": 2,
   "id": "69a8e873-3bde-4b8c-a600-08fd384ae22c",
   "metadata": {},
   "outputs": [
    {
     "name": "stderr",
     "output_type": "stream",
     "text": [
      "2025-10-04 05:54:59.538150: E external/local_xla/xla/stream_executor/cuda/cuda_platform.cc:51] failed call to cuInit: INTERNAL: CUDA error: Failed call to cuInit: UNKNOWN ERROR (303)\n",
      "WARNING:absl:Compiled the loaded model, but the compiled metrics have yet to be built. `model.compile_metrics` will be empty until you train or evaluate the model.\n"
     ]
    }
   ],
   "source": [
    "with open('tokenizer.pickle','rb') as file:\n",
    "    tokenizer=pickle.load(file)\n",
    "\n",
    "model=load_model('News_sentment_analyser_GRU.h5')"
   ]
  },
  {
   "cell_type": "code",
   "execution_count": 4,
   "id": "01654eb7-b04b-429e-a508-c8121facef3e",
   "metadata": {},
   "outputs": [],
   "source": [
    "from tensorflow.keras.preprocessing.sequence import pad_sequences"
   ]
  },
  {
   "cell_type": "code",
   "execution_count": 18,
   "id": "919ebc0f-3b28-4b71-bf18-5b5b01429750",
   "metadata": {},
   "outputs": [],
   "source": [
    "def Predict_sentiment(model,tokenizer,text,max_length):\n",
    "    token_list=tokenizer.texts_to_sequences([text])\n",
    "    if len(token_list)>=max_length:\n",
    "        token_list=token_list[-max_length:]\n",
    "    token_list = pad_sequences(token_list, maxlen=max_length-1, padding='pre')\n",
    "    prediction=model.predict(token_list,verbose=0)\n",
    "    if prediction[0][0]>=.5:\n",
    "        return print(f'the news sentiments are positive with the score of {prediction[0][0]}')\n",
    "\n",
    "    else:\n",
    "        return print(f'the news sentiments are negative with the score of {prediction[0][0]}')\n",
    "    return None"
   ]
  },
  {
   "cell_type": "code",
   "execution_count": 19,
   "id": "35f86f2c-1e85-4185-9bb7-7841ac2f3e45",
   "metadata": {},
   "outputs": [
    {
     "name": "stdout",
     "output_type": "stream",
     "text": [
      "the news sentiments are positive with the score of 0.9780835509300232\n",
      "None\n"
     ]
    }
   ],
   "source": [
    "input_news=\"Finalist Chidimma Adetshina's participation reveals a seam of xenophobia among some in South Africa.\"\n",
    "max_Sequence_length=217\n",
    "prediction=Predict_sentiment(model,tokenizer,input_news,max_Sequence_length)\n",
    "print(prediction)"
   ]
  },
  {
   "cell_type": "code",
   "execution_count": 23,
   "id": "f7f0f2cd-50fe-4060-b02c-79c0eba3fb12",
   "metadata": {},
   "outputs": [
    {
     "name": "stdout",
     "output_type": "stream",
     "text": [
      "the news sentiments are negative with the score of 0.0006146118976175785\n",
      "None\n"
     ]
    }
   ],
   "source": [
    "input_news=\"The company's stock plummeted by 20% after failing to meet its quarterly earnings expectations.\"\n",
    "max_Sequence_length=217\n",
    "prediction=Predict_sentiment(model,tokenizer,input_news,max_Sequence_length)\n",
    "print(prediction)"
   ]
  },
  {
   "cell_type": "code",
   "execution_count": 24,
   "id": "2f294eef-1366-4c5c-a678-db6b53ae62a6",
   "metadata": {},
   "outputs": [
    {
     "name": "stdin",
     "output_type": "stream",
     "text": [
      " \"City officials issued an emergency alert as the wildfire rapidly spread, threatening residential areas.\"\n"
     ]
    },
    {
     "name": "stdout",
     "output_type": "stream",
     "text": [
      "the news sentiments are negative with the score of 0.0006898054271005094\n",
      "None\n"
     ]
    },
    {
     "name": "stdin",
     "output_type": "stream",
     "text": [
      " \"Negotiations between the rival factions have collapsed, escalating fears of a renewed conflict in the region.\"\n"
     ]
    },
    {
     "name": "stdout",
     "output_type": "stream",
     "text": [
      "the news sentiments are negative with the score of 0.0003854897222481668\n",
      "None\n"
     ]
    },
    {
     "name": "stdin",
     "output_type": "stream",
     "text": [
      " \"The company's stock plummeted by 20% after failing to meet its quarterly earnings expectations.\"\n"
     ]
    },
    {
     "name": "stdout",
     "output_type": "stream",
     "text": [
      "the news sentiments are negative with the score of 0.0006146118976175785\n",
      "None\n"
     ]
    },
    {
     "name": "stdin",
     "output_type": "stream",
     "text": [
      " c\n"
     ]
    },
    {
     "name": "stdout",
     "output_type": "stream",
     "text": [
      "the news sentiments are positive with the score of 0.5394534468650818\n",
      "None\n"
     ]
    },
    {
     "name": "stdin",
     "output_type": "stream",
     "text": [
      " \n"
     ]
    },
    {
     "name": "stdout",
     "output_type": "stream",
     "text": [
      "the news sentiments are positive with the score of 0.5294076800346375\n",
      "None\n"
     ]
    }
   ],
   "source": [
    "for i in range(5):\n",
    "    input_news=input()\n",
    "    prediction=Predict_sentiment(model,tokenizer,input_news,max_Sequence_length)\n",
    "    print(prediction)"
   ]
  }
 ],
 "metadata": {
  "kernelspec": {
   "display_name": "default:Python",
   "language": "python",
   "name": "conda-env-default-py"
  },
  "language_info": {
   "codemirror_mode": {
    "name": "ipython",
    "version": 3
   },
   "file_extension": ".py",
   "mimetype": "text/x-python",
   "name": "python",
   "nbconvert_exporter": "python",
   "pygments_lexer": "ipython3",
   "version": "3.9.23"
  }
 },
 "nbformat": 4,
 "nbformat_minor": 5
}
